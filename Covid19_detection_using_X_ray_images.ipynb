{
  "nbformat": 4,
  "nbformat_minor": 0,
  "metadata": {
    "colab": {
      "name": "Covid19 detection using X-ray images.ipynb",
      "provenance": []
    },
    "kernelspec": {
      "name": "python3",
      "display_name": "Python 3"
    }
  },
  "cells": [
    {
      "cell_type": "markdown",
      "metadata": {
        "id": "vWxzGS08AcVK",
        "colab_type": "text"
      },
      "source": [
        "# TASK 1 : Import Libraries"
      ]
    },
    {
      "cell_type": "code",
      "metadata": {
        "id": "CDBYcQCeAUAp",
        "colab_type": "code",
        "colab": {}
      },
      "source": [
        ""
      ],
      "execution_count": null,
      "outputs": []
    },
    {
      "cell_type": "markdown",
      "metadata": {
        "id": "hMRiBWpYAiOQ",
        "colab_type": "text"
      },
      "source": [
        "# TASK 2 : Clone & Explore dataset"
      ]
    },
    {
      "cell_type": "code",
      "metadata": {
        "id": "lY1sIb7GI_m5",
        "colab_type": "code",
        "colab": {}
      },
      "source": [
        "#clone the dataset from the github repository\n",
        "! git clone https://github.com/education454/datasets.git"
      ],
      "execution_count": null,
      "outputs": []
    },
    {
      "cell_type": "code",
      "metadata": {
        "id": "qv3ykJOtAn7k",
        "colab_type": "code",
        "colab": {}
      },
      "source": [
        "#set the path to the main dir\n",
        "\n",
        "#set the path to the train dir\n",
        "\n",
        "#set the path to the test dir\n",
        "\n",
        "\n",
        "#directory with the training covid images\n",
        "\n",
        "#directory with the training normal images\n",
        "\n",
        "#directory with the testing covid images\n",
        "\n",
        "#directory with the testing normal images"
      ],
      "execution_count": null,
      "outputs": []
    },
    {
      "cell_type": "code",
      "metadata": {
        "id": "s_QyIqfcBUwv",
        "colab_type": "code",
        "colab": {}
      },
      "source": [
        "#print the filenames"
      ],
      "execution_count": null,
      "outputs": []
    },
    {
      "cell_type": "code",
      "metadata": {
        "id": "8_PDJQWuBU8U",
        "colab_type": "code",
        "colab": {}
      },
      "source": [
        "#print the total no of images present in each dir"
      ],
      "execution_count": null,
      "outputs": []
    },
    {
      "cell_type": "markdown",
      "metadata": {
        "id": "NMPZ9t8UBogq",
        "colab_type": "text"
      },
      "source": [
        "# TASK 3 : Data Visualization"
      ]
    },
    {
      "cell_type": "code",
      "metadata": {
        "id": "vryI0-PKBtLF",
        "colab_type": "code",
        "colab": {}
      },
      "source": [
        "# plot a grid of 16 images (8 images of Covid19 and 8 images of Normal)\n",
        "\n",
        "#set the number of columns and rows\n",
        "\n",
        "#set the figure size\n",
        "\n",
        "#get the filenames from the covid & normal dir of the train dataset\n",
        "\n",
        "#print the list\n",
        "\n",
        "#merge the covid and normal list"
      ],
      "execution_count": null,
      "outputs": []
    },
    {
      "cell_type": "markdown",
      "metadata": {
        "id": "UWiQARLdCB9J",
        "colab_type": "text"
      },
      "source": [
        "# TASK 4 : Data Preprocessing & Augmentation"
      ]
    },
    {
      "cell_type": "code",
      "metadata": {
        "id": "ZU7C28QWB_il",
        "colab_type": "code",
        "colab": {}
      },
      "source": [
        "# generate training,testing and validation batches "
      ],
      "execution_count": null,
      "outputs": []
    },
    {
      "cell_type": "code",
      "metadata": {
        "id": "SIdVxgoLGb0K",
        "colab_type": "code",
        "colab": {}
      },
      "source": [
        "#get the class indices"
      ],
      "execution_count": null,
      "outputs": []
    },
    {
      "cell_type": "code",
      "metadata": {
        "id": "gMe4b6_YGdlt",
        "colab_type": "code",
        "colab": {}
      },
      "source": [
        "#get the image shape"
      ],
      "execution_count": null,
      "outputs": []
    },
    {
      "cell_type": "markdown",
      "metadata": {
        "id": "ELcsfIibGoK3",
        "colab_type": "text"
      },
      "source": [
        "# TASK 5 : Build Convolutional Neural Network Model"
      ]
    },
    {
      "cell_type": "code",
      "metadata": {
        "id": "_-pwXOyuGxIq",
        "colab_type": "code",
        "colab": {}
      },
      "source": [
        "\n",
        "# add the convolutional layer\n",
        "# filters, size of filters,padding,activation_function,input_shape\n",
        "\n",
        "# pooling layer\n",
        "\n",
        "# place a dropout layer\n",
        "\n",
        "# add another convolutional layer\n",
        "\n",
        "# pooling layer\n",
        "\n",
        "# place a dropout layer\n",
        "\n",
        "# Flatten layer\n",
        "\n",
        "# add a dense layer : amount of nodes, activation\n",
        "\n",
        "# place a dropout layer\n",
        "# 0.5 drop out rate is recommended, half input nodes will be dropped at each update\n",
        "\n"
      ],
      "execution_count": null,
      "outputs": []
    },
    {
      "cell_type": "markdown",
      "metadata": {
        "id": "hgCag-_HHG2N",
        "colab_type": "text"
      },
      "source": [
        "# TASK 6 : Compile & Train the Model"
      ]
    },
    {
      "cell_type": "code",
      "metadata": {
        "id": "1iVcxB1ZHNDV",
        "colab_type": "code",
        "colab": {}
      },
      "source": [
        "#compile the model"
      ],
      "execution_count": null,
      "outputs": []
    },
    {
      "cell_type": "code",
      "metadata": {
        "id": "OWtZjCFlHPQs",
        "colab_type": "code",
        "colab": {}
      },
      "source": [
        "#train the model"
      ],
      "execution_count": null,
      "outputs": []
    },
    {
      "cell_type": "markdown",
      "metadata": {
        "id": "z95l8IC5HRoG",
        "colab_type": "text"
      },
      "source": [
        "# TASK 7 : Performance Evaluation"
      ]
    },
    {
      "cell_type": "code",
      "metadata": {
        "id": "M0d8G-BEHXXs",
        "colab_type": "code",
        "colab": {}
      },
      "source": [
        "#get the keys of history object"
      ],
      "execution_count": null,
      "outputs": []
    },
    {
      "cell_type": "code",
      "metadata": {
        "id": "EVtqI0QuHbZR",
        "colab_type": "code",
        "colab": {}
      },
      "source": [
        "#plot graph between training and validation loss"
      ],
      "execution_count": null,
      "outputs": []
    },
    {
      "cell_type": "code",
      "metadata": {
        "id": "CEIibDQOHgfT",
        "colab_type": "code",
        "colab": {}
      },
      "source": [
        "#plot graph between training and validation accuarcy"
      ],
      "execution_count": null,
      "outputs": []
    },
    {
      "cell_type": "code",
      "metadata": {
        "id": "U9Zm__wJHm3v",
        "colab_type": "code",
        "colab": {}
      },
      "source": [
        "# get the test acuarcy and loss"
      ],
      "execution_count": null,
      "outputs": []
    },
    {
      "cell_type": "markdown",
      "metadata": {
        "id": "-AZjx1Q2HseZ",
        "colab_type": "text"
      },
      "source": [
        "# TASK 8 : Prediction On New Data"
      ]
    },
    {
      "cell_type": "code",
      "metadata": {
        "id": "b5qflf3jH3o_",
        "colab_type": "code",
        "colab": {}
      },
      "source": [
        ""
      ],
      "execution_count": null,
      "outputs": []
    }
  ]
}