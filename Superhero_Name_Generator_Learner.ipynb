{
  "cells": [
    {
      "cell_type": "markdown",
      "metadata": {
        "id": "21XXWP7Fpt2L"
      },
      "source": [
        "# Superhero (and Supervillain) Name Generator\n",
        "\n",
        "---\n",
        "\n",
        "[Superhero Names Dataset](https://github.com/am1tyadav/superhero)"
      ]
    },
    {
      "cell_type": "markdown",
      "metadata": {
        "id": "H6P0NU5Cpt2R"
      },
      "source": [
        "## Task 2\n",
        "\n",
        "1. Import the data\n",
        "2. Create a tokenizer\n",
        "3. Char to index and Index to char dictionaries"
      ]
    },
    {
      "cell_type": "code",
      "execution_count": null,
      "metadata": {
        "id": "srULhalZpt2M",
        "colab": {
          "base_uri": "https://localhost:8080/"
        },
        "outputId": "28877b82-bb01-4299-f415-19d4f7f51eb1"
      },
      "outputs": [
        {
          "output_type": "stream",
          "name": "stdout",
          "text": [
            "Cloning into 'superhero'...\n",
            "remote: Enumerating objects: 8, done.\u001b[K\n",
            "remote: Counting objects: 100% (8/8), done.\u001b[K\n",
            "remote: Compressing objects: 100% (7/7), done.\u001b[K\n",
            "remote: Total 8 (delta 0), reused 4 (delta 0), pack-reused 0\u001b[K\n",
            "Receiving objects: 100% (8/8), 47.08 KiB | 11.77 MiB/s, done.\n"
          ]
        }
      ],
      "source": [
        "!git clone https://github.com/am1tyadav/superhero"
      ]
    },
    {
      "cell_type": "code",
      "execution_count": null,
      "metadata": {
        "id": "uq4CLmsLpt2P",
        "colab": {
          "base_uri": "https://localhost:8080/",
          "height": 36
        },
        "outputId": "6e5e20e6-cda2-4290-caa9-90164c8869ad"
      },
      "outputs": [
        {
          "output_type": "execute_result",
          "data": {
            "text/plain": [
              "'jumpa\\t\\ndoctor fate\\t\\nstarlight\\t\\nisildur\\t\\nlasher\\t\\nvarvara\\t\\nthe target\\t\\naxel\\t\\nbattra\\t\\nchangeling\\t\\npyrrh'"
            ],
            "application/vnd.google.colaboratory.intrinsic+json": {
              "type": "string"
            }
          },
          "metadata": {},
          "execution_count": 2
        }
      ],
      "source": [
        "with open('superhero/superheroes.txt', 'r') as f:\n",
        "  data = f.read()\n",
        "\n",
        "data[:100]"
      ]
    },
    {
      "cell_type": "code",
      "execution_count": null,
      "metadata": {
        "id": "JqhtLuAHpt2R",
        "colab": {
          "base_uri": "https://localhost:8080/"
        },
        "outputId": "5614f0ef-4449-4a09-cc6e-85003ab23d47"
      },
      "outputs": [
        {
          "output_type": "stream",
          "name": "stdout",
          "text": [
            "2.15.0\n"
          ]
        }
      ],
      "source": [
        "import tensorflow as tf\n",
        "print(tf.__version__)"
      ]
    },
    {
      "cell_type": "code",
      "execution_count": null,
      "metadata": {
        "id": "95Lo1Yqzpt2T"
      },
      "outputs": [],
      "source": [
        "tokenizer = tf.keras.preprocessing.text.Tokenizer(\n",
        "    filters='!\"#$%&()*+,-./:;<=>?@[\\\\]^_`{|}~',\n",
        "    split='\\n',\n",
        ")"
      ]
    },
    {
      "cell_type": "code",
      "execution_count": null,
      "metadata": {
        "id": "qYfC4sj2pt2V"
      },
      "outputs": [],
      "source": [
        "tokenizer.fit_on_texts(data)"
      ]
    },
    {
      "cell_type": "code",
      "source": [
        "char_to_index = tokenizer.word_index\n",
        "index_to_char = dict((v, k) for k, v in char_to_index.items())\n",
        "\n",
        "print(index_to_char)"
      ],
      "metadata": {
        "colab": {
          "base_uri": "https://localhost:8080/"
        },
        "id": "k_A30j0OM66D",
        "outputId": "2c8142b1-1c8d-451b-b60f-4df859b10b43"
      },
      "execution_count": null,
      "outputs": [
        {
          "output_type": "stream",
          "name": "stdout",
          "text": [
            "{1: '\\t', 2: 'a', 3: 'e', 4: 'r', 5: 'o', 6: 'n', 7: 'i', 8: ' ', 9: 't', 10: 's', 11: 'l', 12: 'm', 13: 'h', 14: 'd', 15: 'c', 16: 'u', 17: 'g', 18: 'k', 19: 'b', 20: 'p', 21: 'y', 22: 'w', 23: 'f', 24: 'v', 25: 'j', 26: 'z', 27: 'x', 28: 'q'}\n"
          ]
        }
      ]
    },
    {
      "cell_type": "markdown",
      "metadata": {
        "id": "SMwtIw_Bpt2Z"
      },
      "source": [
        "## Task 3\n",
        "\n",
        "1. Converting between names and sequences"
      ]
    },
    {
      "cell_type": "code",
      "execution_count": null,
      "metadata": {
        "id": "N7iQLIXzpt2a",
        "colab": {
          "base_uri": "https://localhost:8080/"
        },
        "outputId": "149a3894-f1d8-4c78-e330-1db4895bfc39"
      },
      "outputs": [
        {
          "output_type": "execute_result",
          "data": {
            "text/plain": [
              "['jumpa\\t',\n",
              " 'doctor fate\\t',\n",
              " 'starlight\\t',\n",
              " 'isildur\\t',\n",
              " 'lasher\\t',\n",
              " 'varvara\\t',\n",
              " 'the target\\t',\n",
              " 'axel\\t',\n",
              " 'battra\\t',\n",
              " 'changeling\\t']"
            ]
          },
          "metadata": {},
          "execution_count": 48
        }
      ],
      "source": [
        "names = data.splitlines()\n",
        "names[:10]"
      ]
    },
    {
      "cell_type": "code",
      "execution_count": null,
      "metadata": {
        "id": "n_-TTfqipt2c",
        "colab": {
          "base_uri": "https://localhost:8080/"
        },
        "outputId": "9144882b-1752-44ad-81a3-de341ae5ceef"
      },
      "outputs": [
        {
          "output_type": "execute_result",
          "data": {
            "text/plain": [
              "[[25], [16], [12], [20], [2], [1]]"
            ]
          },
          "metadata": {},
          "execution_count": 49
        }
      ],
      "source": [
        "tokenizer.texts_to_sequences(names[0])"
      ]
    },
    {
      "cell_type": "code",
      "execution_count": null,
      "metadata": {
        "id": "P6IsKH1Upt2e"
      },
      "outputs": [],
      "source": [
        "def name_to_seq(name):\n",
        "    return [tokenizer.texts_to_sequences(c)[0][0] for c in name]"
      ]
    },
    {
      "cell_type": "code",
      "execution_count": null,
      "metadata": {
        "id": "TuLUiMP3pt2g",
        "colab": {
          "base_uri": "https://localhost:8080/"
        },
        "outputId": "27f28fbc-4134-4522-b261-24ef8ffde113"
      },
      "outputs": [
        {
          "output_type": "execute_result",
          "data": {
            "text/plain": [
              "[25, 16, 12, 20, 2, 1]"
            ]
          },
          "metadata": {},
          "execution_count": 51
        }
      ],
      "source": [
        "name_to_seq(names[0])"
      ]
    },
    {
      "cell_type": "code",
      "execution_count": null,
      "metadata": {
        "id": "yFUYhimKpt2h"
      },
      "outputs": [],
      "source": [
        "def seq_to_name(seq):\n",
        "    return ''.join([index_to_char.get(i, '') for i in seq if i != 0])"
      ]
    },
    {
      "cell_type": "code",
      "execution_count": null,
      "metadata": {
        "id": "ROhCqmhLpt2k",
        "colab": {
          "base_uri": "https://localhost:8080/",
          "height": 36
        },
        "outputId": "62f55910-8bdf-44fa-8695-94e66dd2fdda"
      },
      "outputs": [
        {
          "output_type": "execute_result",
          "data": {
            "text/plain": [
              "'jumpa\\t'"
            ],
            "application/vnd.google.colaboratory.intrinsic+json": {
              "type": "string"
            }
          },
          "metadata": {},
          "execution_count": 53
        }
      ],
      "source": [
        "seq_to_name(name_to_seq(names[0]))"
      ]
    },
    {
      "cell_type": "markdown",
      "metadata": {
        "id": "uCbAzsNjpt2m"
      },
      "source": [
        "## Task 4\n",
        "\n",
        "1. Creating sequences\n",
        "2. Padding all sequences"
      ]
    },
    {
      "cell_type": "code",
      "execution_count": null,
      "metadata": {
        "id": "zstNn-0dpt2m"
      },
      "outputs": [],
      "source": [
        "sequences = []\n",
        "\n",
        "for name in names:\n",
        "  seq = name_to_seq(name)\n",
        "  if len(seq) >= 2:\n",
        "    sequences += [seq[:i] for i in range(2, len(seq) + 1)]"
      ]
    },
    {
      "cell_type": "code",
      "execution_count": null,
      "metadata": {
        "id": "BjRTMysvpt2o",
        "colab": {
          "base_uri": "https://localhost:8080/"
        },
        "outputId": "a4e51a76-cfaa-4e0d-f801-6f4efb453d8b"
      },
      "outputs": [
        {
          "output_type": "execute_result",
          "data": {
            "text/plain": [
              "[[25, 16],\n",
              " [25, 16, 12],\n",
              " [25, 16, 12, 20],\n",
              " [25, 16, 12, 20, 2],\n",
              " [25, 16, 12, 20, 2, 1],\n",
              " [14, 5],\n",
              " [14, 5, 15],\n",
              " [14, 5, 15, 9],\n",
              " [14, 5, 15, 9, 5],\n",
              " [14, 5, 15, 9, 5, 4]]"
            ]
          },
          "metadata": {},
          "execution_count": 55
        }
      ],
      "source": [
        "sequences[:10]"
      ]
    },
    {
      "cell_type": "code",
      "execution_count": null,
      "metadata": {
        "id": "SR68pu2tpt2q",
        "colab": {
          "base_uri": "https://localhost:8080/"
        },
        "outputId": "0ca99dc7-fe2a-4163-f782-2cd4aa29abbe"
      },
      "outputs": [
        {
          "output_type": "stream",
          "name": "stdout",
          "text": [
            "33\n"
          ]
        }
      ],
      "source": [
        "max_len = max([len(x) for x in sequences])\n",
        "print(max_len)"
      ]
    },
    {
      "cell_type": "code",
      "execution_count": null,
      "metadata": {
        "id": "h_1BtWO7pt2r",
        "colab": {
          "base_uri": "https://localhost:8080/"
        },
        "outputId": "44bb387c-0e3a-4e13-a165-55d3f4e6a707"
      },
      "outputs": [
        {
          "output_type": "stream",
          "name": "stdout",
          "text": [
            "[ 0  0  0  0  0  0  0  0  0  0  0  0  0  0  0  0  0  0  0  0  0  0  0  0\n",
            "  0  0  0  0  0  0  0 25 16]\n"
          ]
        }
      ],
      "source": [
        "padded_sequences = tf.keras.preprocessing.sequence.pad_sequences(\n",
        "    sequences, padding='pre',\n",
        "    maxlen=max_len\n",
        ")\n",
        "\n",
        "print(padded_sequences[0])"
      ]
    },
    {
      "cell_type": "code",
      "execution_count": null,
      "metadata": {
        "id": "sPlrLRpSpt2t",
        "colab": {
          "base_uri": "https://localhost:8080/"
        },
        "outputId": "f34e05b3-648a-4116-f206-f68881bf09d6"
      },
      "outputs": [
        {
          "output_type": "execute_result",
          "data": {
            "text/plain": [
              "(88279, 33)"
            ]
          },
          "metadata": {},
          "execution_count": 58
        }
      ],
      "source": [
        "padded_sequences.shape"
      ]
    },
    {
      "cell_type": "markdown",
      "metadata": {
        "id": "8JHD-qckLoUr"
      },
      "source": [
        "## Task 5: Creating Training and Validation Sets\n",
        "\n",
        "1. Creating training and validation sets"
      ]
    },
    {
      "cell_type": "code",
      "execution_count": null,
      "metadata": {
        "id": "BE4BIeSnpt2v",
        "colab": {
          "base_uri": "https://localhost:8080/"
        },
        "outputId": "47a6ca1b-0517-43f9-d71c-9d2d8e0dd9ad"
      },
      "outputs": [
        {
          "output_type": "stream",
          "name": "stdout",
          "text": [
            "(88279, 32) (88279,)\n"
          ]
        }
      ],
      "source": [
        "x, y = padded_sequences[:, :-1], padded_sequences[:, -1]\n",
        "print(x.shape, y.shape)"
      ]
    },
    {
      "cell_type": "code",
      "execution_count": null,
      "metadata": {
        "id": "-KaMOYpALoUr",
        "colab": {
          "base_uri": "https://localhost:8080/"
        },
        "outputId": "42ac8e46-f1da-49f1-d705-1156d446233d"
      },
      "outputs": [
        {
          "output_type": "stream",
          "name": "stdout",
          "text": [
            "(66209, 32) (66209,)\n",
            "(22070, 32) (22070,)\n"
          ]
        }
      ],
      "source": [
        "from sklearn.model_selection import train_test_split\n",
        "\n",
        "x_train, x_test, y_train, y_test = train_test_split(x, y)\n",
        "print(x_train.shape, y_train.shape)\n",
        "print(x_test.shape, y_test.shape)"
      ]
    },
    {
      "cell_type": "code",
      "execution_count": null,
      "metadata": {
        "id": "cgqRZtqnpt2x",
        "colab": {
          "base_uri": "https://localhost:8080/"
        },
        "outputId": "fc1d7825-64d2-4529-f302-19a4a49471ec"
      },
      "outputs": [
        {
          "output_type": "stream",
          "name": "stdout",
          "text": [
            "29\n"
          ]
        }
      ],
      "source": [
        "num_chars = len(char_to_index.keys()) + 1\n",
        "print(num_chars)"
      ]
    },
    {
      "cell_type": "markdown",
      "metadata": {
        "id": "s-S3mpPzLoUr"
      },
      "source": [
        "## Task 6: Creating the Model"
      ]
    },
    {
      "cell_type": "code",
      "execution_count": 83,
      "metadata": {
        "id": "dCCqon3hLoUr",
        "colab": {
          "base_uri": "https://localhost:8080/"
        },
        "outputId": "5eb4406a-2a3b-4f31-e9c0-d25525cc5ea1"
      },
      "outputs": [
        {
          "output_type": "stream",
          "name": "stdout",
          "text": [
            "Model: \"sequential_1\"\n",
            "_________________________________________________________________\n",
            " Layer (type)                Output Shape              Param #   \n",
            "=================================================================\n",
            " embedding_1 (Embedding)     (None, 32, 8)             232       \n",
            "                                                                 \n",
            " conv1d_1 (Conv1D)           (None, 32, 64)            2624      \n",
            "                                                                 \n",
            " max_pooling1d_1 (MaxPoolin  (None, 16, 64)            0         \n",
            " g1D)                                                            \n",
            "                                                                 \n",
            " lstm_1 (LSTM)               (None, 32)                12416     \n",
            "                                                                 \n",
            " dense_1 (Dense)             (None, 29)                957       \n",
            "                                                                 \n",
            "=================================================================\n",
            "Total params: 16229 (63.39 KB)\n",
            "Trainable params: 16229 (63.39 KB)\n",
            "Non-trainable params: 0 (0.00 Byte)\n",
            "_________________________________________________________________\n"
          ]
        }
      ],
      "source": [
        "from tensorflow.keras.models import Sequential\n",
        "from tensorflow.keras.layers import Embedding, Conv1D, MaxPooling1D, LSTM, Bidirectional, Dense\n",
        "\n",
        "model = Sequential([\n",
        "    Embedding(input_dim=num_chars, output_dim=8, input_length=max_len-1),\n",
        "    Conv1D(filters=64, kernel_size=5, strides=1, padding='causal', activation='tanh'),\n",
        "    MaxPooling1D(pool_size=2),\n",
        "    LSTM(32),\n",
        "    Dense(num_chars, activation='softmax')\n",
        "])\n",
        "\n",
        "model.compile(\n",
        "    loss='sparse_categorical_crossentropy',\n",
        "    optimizer='adam',\n",
        "    metrics=['accuracy']\n",
        ")\n",
        "\n",
        "model.summary()"
      ]
    },
    {
      "cell_type": "markdown",
      "metadata": {
        "id": "2_aHqD9JLoUr"
      },
      "source": [
        "## Task 7: Training the Model"
      ]
    },
    {
      "cell_type": "code",
      "execution_count": 84,
      "metadata": {
        "id": "j0Ssl4qupt22",
        "colab": {
          "base_uri": "https://localhost:8080/"
        },
        "outputId": "cd5e2bf4-7b73-4f49-c27c-e3b7270bb9d1"
      },
      "outputs": [
        {
          "output_type": "stream",
          "name": "stdout",
          "text": [
            "Epoch 1/50\n",
            "2070/2070 - 16s - loss: 2.7317 - accuracy: 0.1913 - val_loss: 2.5991 - val_accuracy: 0.2245 - 16s/epoch - 8ms/step\n",
            "Epoch 2/50\n",
            "2070/2070 - 12s - loss: 2.5482 - accuracy: 0.2319 - val_loss: 2.5104 - val_accuracy: 0.2471 - 12s/epoch - 6ms/step\n",
            "Epoch 3/50\n",
            "2070/2070 - 11s - loss: 2.4728 - accuracy: 0.2484 - val_loss: 2.4540 - val_accuracy: 0.2581 - 11s/epoch - 6ms/step\n",
            "Epoch 4/50\n",
            "2070/2070 - 11s - loss: 2.4240 - accuracy: 0.2622 - val_loss: 2.4208 - val_accuracy: 0.2638 - 11s/epoch - 5ms/step\n",
            "Epoch 5/50\n",
            "2070/2070 - 11s - loss: 2.3859 - accuracy: 0.2715 - val_loss: 2.3879 - val_accuracy: 0.2803 - 11s/epoch - 6ms/step\n",
            "Epoch 6/50\n",
            "2070/2070 - 11s - loss: 2.3533 - accuracy: 0.2841 - val_loss: 2.3649 - val_accuracy: 0.2833 - 11s/epoch - 6ms/step\n",
            "Epoch 7/50\n",
            "2070/2070 - 11s - loss: 2.3257 - accuracy: 0.2928 - val_loss: 2.3454 - val_accuracy: 0.2912 - 11s/epoch - 6ms/step\n",
            "Epoch 8/50\n",
            "2070/2070 - 11s - loss: 2.3016 - accuracy: 0.3010 - val_loss: 2.3293 - val_accuracy: 0.3023 - 11s/epoch - 5ms/step\n",
            "Epoch 9/50\n",
            "2070/2070 - 11s - loss: 2.2789 - accuracy: 0.3091 - val_loss: 2.3138 - val_accuracy: 0.3052 - 11s/epoch - 5ms/step\n",
            "Epoch 10/50\n",
            "2070/2070 - 12s - loss: 2.2580 - accuracy: 0.3162 - val_loss: 2.3017 - val_accuracy: 0.3124 - 12s/epoch - 6ms/step\n",
            "Epoch 11/50\n",
            "2070/2070 - 12s - loss: 2.2397 - accuracy: 0.3231 - val_loss: 2.2926 - val_accuracy: 0.3155 - 12s/epoch - 6ms/step\n",
            "Epoch 12/50\n",
            "2070/2070 - 11s - loss: 2.2212 - accuracy: 0.3290 - val_loss: 2.2818 - val_accuracy: 0.3191 - 11s/epoch - 6ms/step\n",
            "Epoch 13/50\n",
            "2070/2070 - 12s - loss: 2.2058 - accuracy: 0.3328 - val_loss: 2.2677 - val_accuracy: 0.3241 - 12s/epoch - 6ms/step\n",
            "Epoch 14/50\n",
            "2070/2070 - 11s - loss: 2.1902 - accuracy: 0.3393 - val_loss: 2.2662 - val_accuracy: 0.3225 - 11s/epoch - 6ms/step\n",
            "Epoch 15/50\n",
            "2070/2070 - 12s - loss: 2.1760 - accuracy: 0.3438 - val_loss: 2.2551 - val_accuracy: 0.3264 - 12s/epoch - 6ms/step\n",
            "Epoch 16/50\n",
            "2070/2070 - 11s - loss: 2.1619 - accuracy: 0.3455 - val_loss: 2.2520 - val_accuracy: 0.3299 - 11s/epoch - 5ms/step\n",
            "Epoch 17/50\n",
            "2070/2070 - 11s - loss: 2.1503 - accuracy: 0.3497 - val_loss: 2.2453 - val_accuracy: 0.3336 - 11s/epoch - 5ms/step\n",
            "Epoch 18/50\n",
            "2070/2070 - 11s - loss: 2.1399 - accuracy: 0.3547 - val_loss: 2.2397 - val_accuracy: 0.3344 - 11s/epoch - 5ms/step\n",
            "Epoch 19/50\n",
            "2070/2070 - 11s - loss: 2.1287 - accuracy: 0.3577 - val_loss: 2.2399 - val_accuracy: 0.3324 - 11s/epoch - 5ms/step\n",
            "Epoch 20/50\n",
            "2070/2070 - 13s - loss: 2.1186 - accuracy: 0.3618 - val_loss: 2.2352 - val_accuracy: 0.3365 - 13s/epoch - 6ms/step\n",
            "Epoch 21/50\n",
            "2070/2070 - 12s - loss: 2.1091 - accuracy: 0.3634 - val_loss: 2.2303 - val_accuracy: 0.3380 - 12s/epoch - 6ms/step\n",
            "Epoch 22/50\n",
            "2070/2070 - 11s - loss: 2.1009 - accuracy: 0.3682 - val_loss: 2.2282 - val_accuracy: 0.3385 - 11s/epoch - 5ms/step\n",
            "Epoch 23/50\n",
            "2070/2070 - 11s - loss: 2.0927 - accuracy: 0.3699 - val_loss: 2.2241 - val_accuracy: 0.3407 - 11s/epoch - 6ms/step\n",
            "Epoch 24/50\n",
            "2070/2070 - 11s - loss: 2.0844 - accuracy: 0.3714 - val_loss: 2.2299 - val_accuracy: 0.3416 - 11s/epoch - 6ms/step\n",
            "Epoch 25/50\n",
            "2070/2070 - 11s - loss: 2.0765 - accuracy: 0.3736 - val_loss: 2.2168 - val_accuracy: 0.3472 - 11s/epoch - 5ms/step\n",
            "Epoch 26/50\n",
            "2070/2070 - 11s - loss: 2.0701 - accuracy: 0.3755 - val_loss: 2.2146 - val_accuracy: 0.3462 - 11s/epoch - 5ms/step\n",
            "Epoch 27/50\n",
            "2070/2070 - 11s - loss: 2.0622 - accuracy: 0.3790 - val_loss: 2.2158 - val_accuracy: 0.3470 - 11s/epoch - 5ms/step\n",
            "Epoch 28/50\n",
            "2070/2070 - 11s - loss: 2.0564 - accuracy: 0.3815 - val_loss: 2.2114 - val_accuracy: 0.3481 - 11s/epoch - 5ms/step\n",
            "Epoch 29/50\n",
            "2070/2070 - 11s - loss: 2.0501 - accuracy: 0.3825 - val_loss: 2.2098 - val_accuracy: 0.3527 - 11s/epoch - 5ms/step\n",
            "Epoch 30/50\n",
            "2070/2070 - 11s - loss: 2.0436 - accuracy: 0.3843 - val_loss: 2.2146 - val_accuracy: 0.3507 - 11s/epoch - 5ms/step\n",
            "Epoch 31/50\n",
            "2070/2070 - 12s - loss: 2.0386 - accuracy: 0.3864 - val_loss: 2.2080 - val_accuracy: 0.3534 - 12s/epoch - 6ms/step\n",
            "Epoch 32/50\n",
            "2070/2070 - 11s - loss: 2.0322 - accuracy: 0.3885 - val_loss: 2.2125 - val_accuracy: 0.3525 - 11s/epoch - 6ms/step\n",
            "Epoch 33/50\n",
            "2070/2070 - 11s - loss: 2.0271 - accuracy: 0.3900 - val_loss: 2.2106 - val_accuracy: 0.3543 - 11s/epoch - 6ms/step\n",
            "Epoch 34/50\n",
            "2070/2070 - 12s - loss: 2.0210 - accuracy: 0.3915 - val_loss: 2.2079 - val_accuracy: 0.3528 - 12s/epoch - 6ms/step\n",
            "Epoch 35/50\n",
            "2070/2070 - 11s - loss: 2.0157 - accuracy: 0.3946 - val_loss: 2.2057 - val_accuracy: 0.3572 - 11s/epoch - 6ms/step\n",
            "Epoch 36/50\n",
            "2070/2070 - 11s - loss: 2.0117 - accuracy: 0.3956 - val_loss: 2.2068 - val_accuracy: 0.3568 - 11s/epoch - 6ms/step\n",
            "Epoch 37/50\n",
            "2070/2070 - 12s - loss: 2.0070 - accuracy: 0.3956 - val_loss: 2.2016 - val_accuracy: 0.3605 - 12s/epoch - 6ms/step\n",
            "Epoch 38/50\n",
            "2070/2070 - 12s - loss: 2.0017 - accuracy: 0.3988 - val_loss: 2.2048 - val_accuracy: 0.3585 - 12s/epoch - 6ms/step\n",
            "Epoch 39/50\n",
            "2070/2070 - 11s - loss: 1.9982 - accuracy: 0.3997 - val_loss: 2.2071 - val_accuracy: 0.3571 - 11s/epoch - 5ms/step\n",
            "Epoch 40/50\n",
            "2070/2070 - 15s - loss: 1.9935 - accuracy: 0.4014 - val_loss: 2.2006 - val_accuracy: 0.3601 - 15s/epoch - 7ms/step\n"
          ]
        }
      ],
      "source": [
        "h = model.fit(\n",
        "    x_train, y_train,\n",
        "    validation_data=(x_test, y_test),\n",
        "    epochs=50, verbose=2,\n",
        "    callbacks=[\n",
        "        tf.keras.callbacks.EarlyStopping(monitor='val_accuracy', patience=3)\n",
        "    ]\n",
        ")"
      ]
    },
    {
      "cell_type": "code",
      "source": [
        "from matplotlib import pyplot as plt\n",
        "\n",
        "epochs_ran = len(h.history['loss'])\n",
        "\n",
        "plt.plot(range(0, epochs_ran), h.history['val_accuracy'], label='Validation')\n",
        "plt.plot(range(0, epochs_ran), h.history['accuracy'], label='Training')\n",
        "plt.legend()\n",
        "plt.show()"
      ],
      "metadata": {
        "colab": {
          "base_uri": "https://localhost:8080/",
          "height": 430
        },
        "id": "W1YSO6fIYaiv",
        "outputId": "96a0c875-6f7b-4617-9d0a-acd2183e52c6"
      },
      "execution_count": 85,
      "outputs": [
        {
          "output_type": "display_data",
          "data": {
            "text/plain": [
              "<Figure size 640x480 with 1 Axes>"
            ],
            "image/png": "[encoded data removed]"
          },
          "metadata": {}
        }
      ]
    },
    {
      "cell_type": "markdown",
      "metadata": {
        "id": "I8hi-S5CLoUr"
      },
      "source": [
        "## Task 8: Generate Names!"
      ]
    },
    {
      "cell_type": "code",
      "source": [
        "import io\n",
        "import sys\n",
        "\n",
        "def suppress_output(func, *args, **kwargs):\n",
        "    old_stdout = sys.stdout\n",
        "    sys.stdout = io.StringIO()\n",
        "    try:\n",
        "        return func(*args, **kwargs)\n",
        "    finally:\n",
        "        sys.stdout = old_stdout"
      ],
      "metadata": {
        "id": "fEBHZweBxS0i"
      },
      "execution_count": 97,
      "outputs": []
    },
    {
      "cell_type": "code",
      "execution_count": 98,
      "metadata": {
        "id": "9f50aTRcpt24"
      },
      "outputs": [],
      "source": [
        "def generate_names(seed):\n",
        "  for i in range(0, 40):\n",
        "    seq = name_to_seq(seed)\n",
        "    padded = tf.keras.preprocessing.sequence.pad_sequences([seq], padding='pre',\n",
        "                                                           maxlen=max_len-1,\n",
        "                                                           truncating='pre')\n",
        "    pred = suppress_output(model.predict, padded)[0]\n",
        "    pred_char = index_to_char[tf.argmax(pred).numpy()]\n",
        "    seed += pred_char\n",
        "\n",
        "    if pred_char == '\\t':\n",
        "      break\n",
        "  print(seed)"
      ]
    },
    {
      "cell_type": "code",
      "execution_count": 100,
      "metadata": {
        "id": "faQ0FInlpt26",
        "colab": {
          "base_uri": "https://localhost:8080/"
        },
        "outputId": "8b256ee8-5e58-4069-e413-c5683fd3e6a8"
      },
      "outputs": [
        {
          "output_type": "stream",
          "name": "stdout",
          "text": [
            "zarlor spor\t\n"
          ]
        }
      ],
      "source": [
        "generate_names('z')"
      ]
    }
  ],
  "metadata": {
    "accelerator": "GPU",
    "colab": {
      "provenance": [],
      "gpuType": "T4"
    },
    "kernelspec": {
      "display_name": "Python 3",
      "name": "python3"
    },
    "language_info": {
      "codemirror_mode": {
        "name": "ipython",
        "version": 3
      },
      "file_extension": ".py",
      "mimetype": "text/x-python",
      "name": "python",
      "nbconvert_exporter": "python",
      "pygments_lexer": "ipython3",
      "version": "3.8.3"
    }
  },
  "nbformat": 4,
  "nbformat_minor": 0
}